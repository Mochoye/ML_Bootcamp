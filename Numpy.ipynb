{
  "nbformat": 4,
  "nbformat_minor": 0,
  "metadata": {
    "colab": {
      "provenance": [],
      "authorship_tag": "ABX9TyOCa9IwiCHRPq5R5qqk9xiV",
      "include_colab_link": true
    },
    "kernelspec": {
      "name": "python3",
      "display_name": "Python 3"
    },
    "language_info": {
      "name": "python"
    }
  },
  "cells": [
    {
      "cell_type": "markdown",
      "metadata": {
        "id": "view-in-github",
        "colab_type": "text"
      },
      "source": [
        "<a href=\"https://colab.research.google.com/github/Mochoye/ML_Bootcamp/blob/main/Numpy.ipynb\" target=\"_parent\"><img src=\"https://colab.research.google.com/assets/colab-badge.svg\" alt=\"Open In Colab\"/></a>"
      ]
    },
    {
      "cell_type": "markdown",
      "source": [
        "# **What is NumPy?**\n",
        "\n",
        "NumPy is a Python library used for working with arrays.\n",
        "\n",
        "NumPy was created in 2005 by Travis Oliphant. It is an open source project and you can use it freely.\n",
        "\n",
        "NumPy stands for Numerical Python.\n"
      ],
      "metadata": {
        "id": "kYO_QCzdDcGk"
      }
    },
    {
      "cell_type": "markdown",
      "source": [
        "# **Why Use NumPy?**\n",
        "\n",
        "\n",
        "In Python we have lists that serve the purpose of arrays, but they are slow to process.\n",
        "\n",
        "NumPy aims to provide an array object that is up to 50x faster than traditional Python lists.\n",
        "\n",
        "The array object in NumPy is called ndarray, it provides a lot of supporting functions that make working with ndarray very easy.\n",
        "\n",
        "**Arrays are very frequently used in data science, where speed and resources are very important.**"
      ],
      "metadata": {
        "id": "UttgKmpADmsb"
      }
    },
    {
      "cell_type": "markdown",
      "source": [
        "# **Why is NumPy Faster Than Lists?**\n",
        "\n",
        "There are a few reasons why NumPy arrays are faster than Python lists.\n",
        "\n",
        "\n",
        "*   **NumPy arrays are stored in contiguous memory**. This means that the elements of an array are stored next to each other in memory, which makes it very efficient to access them. Python lists, on the other hand, are not stored in contiguous memory, which can make accessing their elements slower.\n",
        "*   **NumPy arrays are optimized for speed.** The NumPy library contains a number of functions that are specifically designed to be fast. These functions are often written in C or C++, which are languages that are known for their speed. Python lists, on the other hand, are not optimized for speed.\n",
        "\n"
      ],
      "metadata": {
        "id": "CI5Vd1UfDq67"
      }
    },
    {
      "cell_type": "code",
      "source": [
        "!pip install numpy"
      ],
      "metadata": {
        "colab": {
          "base_uri": "https://localhost:8080/"
        },
        "id": "3up6S2nADl7a",
        "outputId": "dbc90682-3d98-4be2-9add-7b40781a2230"
      },
      "execution_count": null,
      "outputs": [
        {
          "output_type": "stream",
          "name": "stdout",
          "text": [
            "Requirement already satisfied: numpy in /usr/local/lib/python3.10/dist-packages (1.22.4)\n"
          ]
        }
      ]
    },
    {
      "cell_type": "code",
      "execution_count": 1,
      "metadata": {
        "id": "EODQqauoDV8Z"
      },
      "outputs": [],
      "source": [
        "import numpy as np"
      ]
    },
    {
      "cell_type": "markdown",
      "source": [
        "1. Create"
      ],
      "metadata": {
        "id": "KrReYVGEsx5q"
      }
    },
    {
      "cell_type": "code",
      "source": [
        "data = np.random.rand(2,3,4)\n",
        "zeroes = np.zeros((2,2,2))\n",
        "full = np.full((2,2,2), 8)\n",
        "ones = np.ones((2,2,2))"
      ],
      "metadata": {
        "id": "v1OB4oBrszt6"
      },
      "execution_count": 2,
      "outputs": []
    },
    {
      "cell_type": "code",
      "source": [
        "data"
      ],
      "metadata": {
        "colab": {
          "base_uri": "https://localhost:8080/"
        },
        "id": "UIhFB2NZs12S",
        "outputId": "870a3813-90ff-4361-bbd1-c049b7882b68"
      },
      "execution_count": 3,
      "outputs": [
        {
          "output_type": "execute_result",
          "data": {
            "text/plain": [
              "array([[[0.78540121, 0.1988389 , 0.56155264, 0.51183225],\n",
              "        [0.24868488, 0.07311919, 0.10642762, 0.13784841],\n",
              "        [0.68324661, 0.35796666, 0.87423889, 0.34488861]],\n",
              "\n",
              "       [[0.72325262, 0.01562663, 0.26097602, 0.84602266],\n",
              "        [0.63543655, 0.48800152, 0.02158502, 0.60970829],\n",
              "        [0.12934529, 0.02209961, 0.09508327, 0.27258182]]])"
            ]
          },
          "metadata": {},
          "execution_count": 3
        }
      ]
    },
    {
      "cell_type": "code",
      "source": [
        "full"
      ],
      "metadata": {
        "colab": {
          "base_uri": "https://localhost:8080/"
        },
        "id": "iqlar1YDs3Y6",
        "outputId": "561f6761-32e2-4d19-9e92-e9a4a5d9e92b"
      },
      "execution_count": 4,
      "outputs": [
        {
          "output_type": "execute_result",
          "data": {
            "text/plain": [
              "array([[[8, 8],\n",
              "        [8, 8]],\n",
              "\n",
              "       [[8, 8],\n",
              "        [8, 8]]])"
            ]
          },
          "metadata": {},
          "execution_count": 4
        }
      ]
    },
    {
      "cell_type": "code",
      "source": [
        "arr = np.array([[1,2,3,4],[1,2,3,4]])  #2,4"
      ],
      "metadata": {
        "id": "rEcQ60I9s4KK"
      },
      "execution_count": 5,
      "outputs": []
    },
    {
      "cell_type": "code",
      "source": [
        "a=1"
      ],
      "metadata": {
        "id": "rW6aEk9TWoGt"
      },
      "execution_count": 6,
      "outputs": []
    },
    {
      "cell_type": "code",
      "source": [
        "a = np.array([1,2,3,4])"
      ],
      "metadata": {
        "id": "5mioxkNEnV8E"
      },
      "execution_count": 7,
      "outputs": []
    },
    {
      "cell_type": "code",
      "source": [
        "type(arr)"
      ],
      "metadata": {
        "colab": {
          "base_uri": "https://localhost:8080/"
        },
        "id": "w3pGGkKhs4-B",
        "outputId": "08798a51-4581-4a64-bceb-62e37860d3a2"
      },
      "execution_count": 8,
      "outputs": [
        {
          "output_type": "execute_result",
          "data": {
            "text/plain": [
              "numpy.ndarray"
            ]
          },
          "metadata": {},
          "execution_count": 8
        }
      ]
    },
    {
      "cell_type": "markdown",
      "source": [
        "2. Read"
      ],
      "metadata": {
        "id": "3oK8hNOKs5nq"
      }
    },
    {
      "cell_type": "code",
      "source": [
        "data"
      ],
      "metadata": {
        "colab": {
          "base_uri": "https://localhost:8080/"
        },
        "id": "8TwmnGcoTNyt",
        "outputId": "3f35bbdb-0d63-4fb1-dbe9-0259a33ea106"
      },
      "execution_count": 21,
      "outputs": [
        {
          "output_type": "execute_result",
          "data": {
            "text/plain": [
              "array([[[0.78540121, 0.1988389 , 0.56155264, 0.51183225],\n",
              "        [0.24868488, 0.07311919, 0.10642762, 0.13784841],\n",
              "        [0.68324661, 0.35796666, 0.87423889, 0.34488861]],\n",
              "\n",
              "       [[0.72325262, 0.01562663, 0.26097602, 0.84602266],\n",
              "        [0.63543655, 0.48800152, 0.02158502, 0.60970829],\n",
              "        [0.12934529, 0.02209961, 0.09508327, 0.27258182]]])"
            ]
          },
          "metadata": {},
          "execution_count": 21
        }
      ]
    },
    {
      "cell_type": "code",
      "source": [
        "# Attributes\n",
        "shape = data.shape\n",
        "size = data.size\n",
        "types = data.dtype"
      ],
      "metadata": {
        "id": "im26jETWs7V6"
      },
      "execution_count": 16,
      "outputs": []
    },
    {
      "cell_type": "code",
      "source": [
        "type(size)"
      ],
      "metadata": {
        "colab": {
          "base_uri": "https://localhost:8080/"
        },
        "id": "vuYPCye3T0xW",
        "outputId": "62cf3825-258d-484f-fb4f-82b4c3d1e23f"
      },
      "execution_count": 23,
      "outputs": [
        {
          "output_type": "execute_result",
          "data": {
            "text/plain": [
              "int"
            ]
          },
          "metadata": {},
          "execution_count": 23
        }
      ]
    },
    {
      "cell_type": "code",
      "source": [
        "types"
      ],
      "metadata": {
        "id": "lSgKaU1cs8yZ",
        "colab": {
          "base_uri": "https://localhost:8080/"
        },
        "outputId": "a66f9c79-63b6-4f18-ce57-dd8d5942ad71"
      },
      "execution_count": 20,
      "outputs": [
        {
          "output_type": "execute_result",
          "data": {
            "text/plain": [
              "dtype('float64')"
            ]
          },
          "metadata": {},
          "execution_count": 20
        }
      ]
    },
    {
      "cell_type": "code",
      "source": [
        "# Slicing\n",
        "arr = data[0]\n",
        "slicer = data[0][0:2]\n",
        "reverse = data[-1]\n",
        "singleval = data[0][0][0]"
      ],
      "metadata": {
        "id": "hWd9uS14s94k"
      },
      "execution_count": 26,
      "outputs": []
    },
    {
      "cell_type": "code",
      "source": [
        "singleval"
      ],
      "metadata": {
        "colab": {
          "base_uri": "https://localhost:8080/"
        },
        "id": "aROmPd8gUwhG",
        "outputId": "706f6fa3-188c-4f3c-b46b-75e09c9b5b45"
      },
      "execution_count": 29,
      "outputs": [
        {
          "output_type": "execute_result",
          "data": {
            "text/plain": [
              "0.7854012055616973"
            ]
          },
          "metadata": {},
          "execution_count": 29
        }
      ]
    },
    {
      "cell_type": "markdown",
      "source": [
        "3. Update"
      ],
      "metadata": {
        "id": "-DFk5E73s_-x"
      }
    },
    {
      "cell_type": "code",
      "source": [
        "list1 = np.random.rand(10)\n",
        "list2 = np.random.rand(10)"
      ],
      "metadata": {
        "id": "9WOCkpCDtBLp"
      },
      "execution_count": 34,
      "outputs": []
    },
    {
      "cell_type": "code",
      "source": [
        "list2"
      ],
      "metadata": {
        "id": "eIVLDb1YtCcJ",
        "colab": {
          "base_uri": "https://localhost:8080/"
        },
        "outputId": "337dc04e-688c-4b39-b376-55994c97e63e"
      },
      "execution_count": 39,
      "outputs": [
        {
          "output_type": "execute_result",
          "data": {
            "text/plain": [
              "array([0.9389641 , 0.41903714, 0.3374905 , 0.7426078 , 0.83051828,\n",
              "       0.11045563, 0.99484629, 0.57625946, 0.76820471, 0.92640054])"
            ]
          },
          "metadata": {},
          "execution_count": 39
        }
      ]
    },
    {
      "cell_type": "code",
      "source": [
        "# Basic Math\n",
        "add = np.add(list1, list2) #list1 + list 2\n",
        "sub = np.subtract(list1, list2) # list1-list2\n",
        "div = np.divide(list1, list2)#list1 / list2\n",
        "mult = np.multiply(list1, list2)# list1 * list2\n",
        "dot = np.dot(list1,list2)"
      ],
      "metadata": {
        "id": "xv5JlQqStDwp"
      },
      "execution_count": 44,
      "outputs": []
    },
    {
      "cell_type": "code",
      "source": [
        "dot"
      ],
      "metadata": {
        "id": "tZSkMnFQtFkB",
        "colab": {
          "base_uri": "https://localhost:8080/"
        },
        "outputId": "578ddd92-28d1-49b4-901e-dbc37157dc26"
      },
      "execution_count": 45,
      "outputs": [
        {
          "output_type": "execute_result",
          "data": {
            "text/plain": [
              "3.7418962583046778"
            ]
          },
          "metadata": {},
          "execution_count": 45
        }
      ]
    },
    {
      "cell_type": "code",
      "source": [
        "# Stat Functions\n",
        "sqrt = np.sqrt(25)\n",
        "ab = np.abs(-2)\n",
        "power = np.power(2,7)\n",
        "log = np.log(25)\n",
        "exp = np.exp([2,3])\n",
        "mins = np.min(list1)\n",
        "maxs = np.max(list1)"
      ],
      "metadata": {
        "id": "rICHDdGhtG-C"
      },
      "execution_count": 46,
      "outputs": []
    },
    {
      "cell_type": "code",
      "source": [
        "maxs"
      ],
      "metadata": {
        "id": "BzEgjxUttHvJ",
        "colab": {
          "base_uri": "https://localhost:8080/"
        },
        "outputId": "0d73508c-ea35-4934-bd72-96f27a00f49a"
      },
      "execution_count": 53,
      "outputs": [
        {
          "output_type": "execute_result",
          "data": {
            "text/plain": [
              "0.9759076446020155"
            ]
          },
          "metadata": {},
          "execution_count": 53
        }
      ]
    },
    {
      "cell_type": "code",
      "source": [
        "data"
      ],
      "metadata": {
        "id": "RNiINvYetIph",
        "colab": {
          "base_uri": "https://localhost:8080/"
        },
        "outputId": "461e810e-74e6-41ae-b523-d784895f9da7"
      },
      "execution_count": 54,
      "outputs": [
        {
          "output_type": "execute_result",
          "data": {
            "text/plain": [
              "array([[[0.78540121, 0.1988389 , 0.56155264, 0.51183225],\n",
              "        [0.24868488, 0.07311919, 0.10642762, 0.13784841],\n",
              "        [0.68324661, 0.35796666, 0.87423889, 0.34488861]],\n",
              "\n",
              "       [[0.72325262, 0.01562663, 0.26097602, 0.84602266],\n",
              "        [0.63543655, 0.48800152, 0.02158502, 0.60970829],\n",
              "        [0.12934529, 0.02209961, 0.09508327, 0.27258182]]])"
            ]
          },
          "metadata": {},
          "execution_count": 54
        }
      ]
    },
    {
      "cell_type": "code",
      "source": [
        "data[0][0][0] = 700"
      ],
      "metadata": {
        "id": "6WXF3MD1tJrB"
      },
      "execution_count": 55,
      "outputs": []
    },
    {
      "cell_type": "code",
      "source": [
        "data"
      ],
      "metadata": {
        "id": "E5ODcQHHtKwJ",
        "colab": {
          "base_uri": "https://localhost:8080/"
        },
        "outputId": "5c5585e1-7a34-4be7-86b2-2cfa0f41f06f"
      },
      "execution_count": 56,
      "outputs": [
        {
          "output_type": "execute_result",
          "data": {
            "text/plain": [
              "array([[[7.00000000e+02, 1.98838901e-01, 5.61552643e-01, 5.11832254e-01],\n",
              "        [2.48684882e-01, 7.31191884e-02, 1.06427620e-01, 1.37848407e-01],\n",
              "        [6.83246613e-01, 3.57966664e-01, 8.74238890e-01, 3.44888606e-01]],\n",
              "\n",
              "       [[7.23252620e-01, 1.56266332e-02, 2.60976019e-01, 8.46022663e-01],\n",
              "        [6.35436555e-01, 4.88001524e-01, 2.15850216e-02, 6.09708292e-01],\n",
              "        [1.29345286e-01, 2.20996107e-02, 9.50832684e-02, 2.72581823e-01]]])"
            ]
          },
          "metadata": {},
          "execution_count": 56
        }
      ]
    },
    {
      "cell_type": "code",
      "source": [
        "data.sort()\n",
        "data"
      ],
      "metadata": {
        "id": "yStMpS5utLyB",
        "colab": {
          "base_uri": "https://localhost:8080/"
        },
        "outputId": "f5bfd05b-7575-433c-9d17-d82cd2b02b35"
      },
      "execution_count": 57,
      "outputs": [
        {
          "output_type": "execute_result",
          "data": {
            "text/plain": [
              "array([[[1.98838901e-01, 5.11832254e-01, 5.61552643e-01, 7.00000000e+02],\n",
              "        [7.31191884e-02, 1.06427620e-01, 1.37848407e-01, 2.48684882e-01],\n",
              "        [3.44888606e-01, 3.57966664e-01, 6.83246613e-01, 8.74238890e-01]],\n",
              "\n",
              "       [[1.56266332e-02, 2.60976019e-01, 7.23252620e-01, 8.46022663e-01],\n",
              "        [2.15850216e-02, 4.88001524e-01, 6.09708292e-01, 6.35436555e-01],\n",
              "        [2.20996107e-02, 9.50832684e-02, 1.29345286e-01, 2.72581823e-01]]])"
            ]
          },
          "metadata": {},
          "execution_count": 57
        }
      ]
    },
    {
      "cell_type": "code",
      "source": [],
      "metadata": {
        "id": "-mSQ6GkAX8Zt"
      },
      "execution_count": null,
      "outputs": []
    }
  ]
}